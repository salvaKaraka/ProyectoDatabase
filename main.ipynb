{
 "cells": [
  {
   "cell_type": "code",
   "execution_count": null,
   "id": "8da0097a",
   "metadata": {},
   "outputs": [],
   "source": [
    "%pip install pandas sqlalchemy langchain langchain_community langchain_openai python_dotenv  --default-timeout=100"
   ]
  },
  {
   "cell_type": "code",
   "execution_count": null,
   "id": "5a4f00d1",
   "metadata": {},
   "outputs": [],
   "source": [
    "import pandas as pd\n",
    "\n",
    "df = pd.read_csv(\"./F1.csv\")"
   ]
  },
  {
   "cell_type": "markdown",
   "id": "3ee7d792",
   "metadata": {},
   "source": [
    "# Creación de base de datos SQL a partir de dataframe (csv)"
   ]
  },
  {
   "cell_type": "code",
   "execution_count": null,
   "id": "ea3217f1",
   "metadata": {},
   "outputs": [],
   "source": [
    "import sqlite3\n",
    "from sqlalchemy import create_engine\n",
    "\n",
    "engine = create_engine('sqlite:///f1.db', echo=True)\n",
    "df.to_sql('f1', con=engine, if_exists='replace', index=False)"
   ]
  },
  {
   "cell_type": "markdown",
   "id": "7f0954cd",
   "metadata": {},
   "source": [
    "# Creación de agente\n",
    "- La temperatura es 0 para que se limite a responder con la información de la base de datos y que no se ponga creativo"
   ]
  },
  {
   "cell_type": "code",
   "execution_count": null,
   "id": "01ba7a24",
   "metadata": {},
   "outputs": [],
   "source": [
    "import os\n",
    "from dotenv import load_dotenv\n",
    "load_dotenv()\n",
    "\n",
    "from langchain_openai import ChatOpenAI\n",
    "from langchain_community.utilities import SQLDatabase\n",
    "from langchain_community.agent_toolkits import create_sql_agent\n",
    "\n",
    "db = SQLDatabase(engine=engine)\n",
    "\n",
    "llm = ChatOpenAI(model=\"gpt-4o\", temperature=0, openai_api_key=os.getenv(\"OPENAI_API_KEY\"))\n",
    "\n",
    "agente = create_sql_agent(llm=llm, database=db,agent_type=\"openai-tools\" , verbose=True) #verbose=True para ver como \"piensa\" el agente"
   ]
  },
  {
   "cell_type": "markdown",
   "id": "8d395d42",
   "metadata": {},
   "source": [
    "# Algunos ejemplos de consultas"
   ]
  },
  {
   "cell_type": "code",
   "execution_count": null,
   "id": "39a3ddef",
   "metadata": {},
   "outputs": [],
   "source": [
    "response = agente.invoke({\"input\":\"¿Cuántos pilotos que ganaron mas de campeonato mundial hay en la base de datos?\"})\n",
    "print(response['output'])"
   ]
  },
  {
   "cell_type": "code",
   "execution_count": null,
   "id": "f7a89440",
   "metadata": {},
   "outputs": [],
   "source": [
    "response = agente.invoke({\"input\":\"¿Cuántos campeonatos mundiales tiene Ayrton Senna?\"})\n",
    "print(response['output'])"
   ]
  },
  {
   "cell_type": "code",
   "execution_count": null,
   "id": "f6a0a76a",
   "metadata": {},
   "outputs": [],
   "source": [
    "response = agente.invoke({\"input\":\"¿Qué porcentaje de carreras se corrieron bajo la lluvia?\"})\n",
    "print(response['output'])"
   ]
  },
  {
   "cell_type": "code",
   "execution_count": null,
   "id": "3b74b941",
   "metadata": {},
   "outputs": [],
   "source": [
    "response = agente.invoke({\"input\":\"¿Cómo se relaciona la posicion final con los puntos obtenidos?\"})\n",
    "print(response['output'])"
   ]
  }
 ],
 "metadata": {
  "kernelspec": {
   "display_name": "Python 3",
   "language": "python",
   "name": "python3"
  },
  "language_info": {
   "codemirror_mode": {
    "name": "ipython",
    "version": 3
   },
   "file_extension": ".py",
   "mimetype": "text/x-python",
   "name": "python",
   "nbconvert_exporter": "python",
   "pygments_lexer": "ipython3",
   "version": "3.13.3"
  }
 },
 "nbformat": 4,
 "nbformat_minor": 5
}
